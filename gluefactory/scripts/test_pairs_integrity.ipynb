{
 "cells": [
  {
   "cell_type": "code",
   "execution_count": null,
   "id": "6e4869d5",
   "metadata": {},
   "outputs": [],
   "source": [
    "# test_spherecraft_loader.py\n",
    "import os\n",
    "import sys\n",
    "from pathlib import Path\n",
    "import matplotlib.pyplot as plt\n",
    "import torch\n",
    "import numpy as np\n",
    "from gluefactory.settings import DATA_PATH # To confirm where data is expected\n",
    "from gluefactory.datasets import get_dataset # The function from datasets/__init__.py\n",
    "from gluefactory.visualization.viz2d import plot_images, plot_keypoints, plot_matches # For visualization"
   ]
  },
  {
   "cell_type": "code",
   "execution_count": null,
   "id": "7dc472b3",
   "metadata": {},
   "outputs": [],
   "source": [
    "SphereCraftDatasetClass = get_dataset(\"spherecraft\")\n",
    "spherecraft_dataset_manager = SphereCraftDatasetClass({})\n",
    "\n",
    "print(\"\\n--- Getting 'train' dataset ---\")\n",
    "try:\n",
    "    train_torch_dataset = spherecraft_dataset_manager.get_dataset(\"train\")\n",
    "    print(f\"Successfully got 'train' dataset. Number of items: {len(train_torch_dataset)}\")\n",
    "except Exception as e:\n",
    "    print(f\"ERROR getting 'train' dataset: {e}\")\n",
    "    sys.exit(1)\n",
    "\n",
    "print(\"\\n--- Testing DataLoader ---\")\n",
    "try:\n",
    "    train_loader = spherecraft_dataset_manager.get_data_loader(\"train\", shuffle=True, distributed=False)\n",
    "    print(f\"Successfully created DataLoader for 'train' split.\")\n",
    "except Exception as e:\n",
    "    print(f\"ERROR creating DataLoader: {e}\")"
   ]
  },
  {
   "cell_type": "code",
   "execution_count": null,
   "id": "25c98feb",
   "metadata": {},
   "outputs": [],
   "source": [
    "for i, batch_data in enumerate(train_loader):\n",
    "    if batch_data[\"keypoints0\"].shape != batch_data[\"keypoints1\"].shape:\n",
    "        print(f\"Shape mismatch at batch {i} - named {batch_data['name']}:\")\n",
    "        print(f\"keypoints0: {batch_data['keypoints0'].shape}\")\n",
    "        print(f\"keypoints1: {batch_data['keypoints1'].shape}\")\n"
   ]
  },
  {
   "cell_type": "code",
   "execution_count": null,
   "id": "fa268e7f",
   "metadata": {},
   "outputs": [],
   "source": [
    "data = np.load(\"/mnt/d/code/glue-factory/data/pretraining/pairs/berlinStreet_00000000_0.npz\")"
   ]
  },
  {
   "cell_type": "code",
   "execution_count": null,
   "id": "88cd655c",
   "metadata": {},
   "outputs": [],
   "source": [
    "print(data[\"keypoints0\"].shape)\n",
    "print(data[\"descriptors0\"].shape)\n",
    "print(data[\"keypoints1\"].shape)\n",
    "print(data[\"descriptors1\"].shape)\n",
    "print(data[\"matches\"].shape)\n",
    "print(data[\"gt_matches0\"].shape)\n",
    "print(data[\"gt_matches1\"].shape)"
   ]
  }
 ],
 "metadata": {
  "kernelspec": {
   "display_name": "gluefactory",
   "language": "python",
   "name": "python3"
  },
  "language_info": {
   "codemirror_mode": {
    "name": "ipython",
    "version": 3
   },
   "file_extension": ".py",
   "mimetype": "text/x-python",
   "name": "python",
   "nbconvert_exporter": "python",
   "pygments_lexer": "ipython3",
   "version": "3.8.0"
  }
 },
 "nbformat": 4,
 "nbformat_minor": 5
}
