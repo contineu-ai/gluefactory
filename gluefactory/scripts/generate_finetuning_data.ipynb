{
 "cells": [
  {
   "cell_type": "code",
   "execution_count": 2,
   "id": "6eede310",
   "metadata": {},
   "outputs": [
    {
     "name": "stderr",
     "output_type": "stream",
     "text": [
      "No nodelocked license found\n",
      "No license server found\n"
     ]
    }
   ],
   "source": [
    "import Metashape\n",
    "from gluefactory.utils.covisibility_graph import NVMParser"
   ]
  },
  {
   "cell_type": "code",
   "execution_count": 3,
   "id": "a07ae0c4",
   "metadata": {},
   "outputs": [],
   "source": [
    "psz_file = \"/mnt/d/code/glue-factory/data/finetuning/67320a86903efc053ce6259c.psz\"\n",
    "depthMaps_loc = \"/mnt/d/code/glue-factory/data/finetuning/depthmaps/\"\n",
    "camera_output = \"/mnt/d/code/glue-factory/data/finetuning/67320a86903efc053ce6259c.nvm\""
   ]
  },
  {
   "cell_type": "code",
   "execution_count": 4,
   "id": "36045862",
   "metadata": {},
   "outputs": [
    {
     "name": "stdout",
     "output_type": "stream",
     "text": [
      "LoadProject: path = /mnt/d/code/glue-factory/data/finetuning/67320a86903efc053ce6259c.psz\n",
      "loaded project in 4.70478 sec\n"
     ]
    }
   ],
   "source": [
    "# 1. Load the psz file\n",
    "doc = Metashape.Document()\n",
    "doc.open(psz_file)\n",
    "\n",
    "chunk = doc.chunk"
   ]
  },
  {
   "cell_type": "code",
   "execution_count": 5,
   "id": "37e01ef2",
   "metadata": {},
   "outputs": [],
   "source": [
    "# 2. Generate Depth maps\n",
    "for camera in chunk.cameras:\n",
    "    depth = chunk.model.renderDepth(camera.transform, camera.sensor.calibration)\n",
    "    depth = depth.convert(\"RGB\",\"F16\")\n",
    "    depth.save(depthMaps_loc + camera.label + \".exr\")"
   ]
  },
  {
   "cell_type": "code",
   "execution_count": null,
   "id": "52fd110d",
   "metadata": {},
   "outputs": [],
   "source": [
    "# 3. Export the cameras in .nvs format\n",
    "chunk.exportCameras(path=camera_output)"
   ]
  },
  {
   "cell_type": "code",
   "execution_count": 8,
   "id": "e1e6a303",
   "metadata": {},
   "outputs": [
    {
     "name": "stdout",
     "output_type": "stream",
     "text": [
      "Parsing NVM file: /mnt/d/code/glue-factory/data/finetuning/67320a86903efc053ce6259c.nvm...\n",
      "End of models section reached.\n",
      "Successfully parsed 1 model(s).\n",
      "\n",
      "Building covisibility graph for Model 0...\n",
      "Covisibility graph built successfully.\n"
     ]
    }
   ],
   "source": [
    "# 4. Build Covisibility Graph\n",
    "parser = NVMParser()\n",
    "parser.parse(camera_output)\n",
    "graph = parser.build_covisibility_graph(model_index=0)"
   ]
  },
  {
   "cell_type": "code",
   "execution_count": null,
   "id": "81f2d569",
   "metadata": {},
   "outputs": [],
   "source": [
    "# 5. Select image pairs\n"
   ]
  }
 ],
 "metadata": {
  "kernelspec": {
   "display_name": "gluefactory",
   "language": "python",
   "name": "python3"
  },
  "language_info": {
   "codemirror_mode": {
    "name": "ipython",
    "version": 3
   },
   "file_extension": ".py",
   "mimetype": "text/x-python",
   "name": "python",
   "nbconvert_exporter": "python",
   "pygments_lexer": "ipython3",
   "version": "3.9.0"
  }
 },
 "nbformat": 4,
 "nbformat_minor": 5
}
